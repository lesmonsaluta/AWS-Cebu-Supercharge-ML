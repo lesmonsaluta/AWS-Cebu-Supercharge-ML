{
 "cells": [
  {
   "cell_type": "markdown",
   "metadata": {},
   "source": [
    "<style>\n",
    "  .custom-title {\n",
    "    font-size: 48px;\n",
    "    font-weight: bold;\n",
    "    color: #007acc; /* You can change the color to your preference */\n",
    "    margin-bottom: 10px;\n",
    "  }\n",
    "</style>\n",
    "\n",
    "<div class=\"custom-title\">Extra for Enthusiasts! : Create your own Dataset</div>\n"
   ]
  },
  {
   "cell_type": "markdown",
   "metadata": {},
   "source": [
    "<p>For context, ideally we would want a dataset with a \"review\" column with sentences that have decent length and minimal grammatical errors, and a \"rating\" dataset to represent numerical customer rating. The best that I was able to find was this hotel dataset with a great \"review\" column, but with a bad \"rating\" column. The goal here is to generate our own rating from what we have on the dataset, using ML.</p>"
   ]
  },
  {
   "cell_type": "markdown",
   "metadata": {},
   "source": [
    "<style>\n",
    "  .custom-title {\n",
    "    font-size: 24px;\n",
    "    font-weight: bold;\n",
    "    color: #007acc; /* You can change the color to your preference */\n",
    "    margin-bottom: 10px;\n",
    "  }\n",
    "\n",
    "  .custom-subsection {\n",
    "    font-size: 18px;\n",
    "    font-weight: bold;\n",
    "    color: #009688; /* You can change the color to your preference */\n",
    "    margin-top: 20px;\n",
    "  }\n",
    "</style>\n",
    "\n",
    "## <span class=\"custom-subsection\">Imports</span>\n",
    "<p>pandas : for data wrangling</p>\n",
    "<p>sklearn : ML, Clustering, Dimension Reduction </p>\n",
    "<p>matplotlib : visualization</p>"
   ]
  },
  {
   "cell_type": "code",
   "execution_count": 27,
   "metadata": {},
   "outputs": [],
   "source": [
    "import pandas as pd\n",
    "\n",
    "from sklearn.feature_extraction.text import TfidfVectorizer\n",
    "from sklearn.cluster import KMeans\n",
    "from sklearn.decomposition import PCA\n",
    "\n",
    "import matplotlib.pyplot as plt"
   ]
  },
  {
   "cell_type": "code",
   "execution_count": 28,
   "metadata": {},
   "outputs": [
    {
     "data": {
      "text/html": [
       "<div>\n",
       "<style scoped>\n",
       "    .dataframe tbody tr th:only-of-type {\n",
       "        vertical-align: middle;\n",
       "    }\n",
       "\n",
       "    .dataframe tbody tr th {\n",
       "        vertical-align: top;\n",
       "    }\n",
       "\n",
       "    .dataframe thead th {\n",
       "        text-align: right;\n",
       "    }\n",
       "</style>\n",
       "<table border=\"1\" class=\"dataframe\">\n",
       "  <thead>\n",
       "    <tr style=\"text-align: right;\">\n",
       "      <th></th>\n",
       "      <th>Hotel_Address</th>\n",
       "      <th>Additional_Number_of_Scoring</th>\n",
       "      <th>Review_Date</th>\n",
       "      <th>Average_Score</th>\n",
       "      <th>Hotel_Name</th>\n",
       "      <th>Reviewer_Nationality</th>\n",
       "      <th>Negative_Review</th>\n",
       "      <th>Review_Total_Negative_Word_Counts</th>\n",
       "      <th>Total_Number_of_Reviews</th>\n",
       "      <th>Positive_Review</th>\n",
       "      <th>Review_Total_Positive_Word_Counts</th>\n",
       "      <th>Total_Number_of_Reviews_Reviewer_Has_Given</th>\n",
       "      <th>Reviewer_Score</th>\n",
       "      <th>Tags</th>\n",
       "      <th>days_since_review</th>\n",
       "      <th>lat</th>\n",
       "      <th>lng</th>\n",
       "    </tr>\n",
       "  </thead>\n",
       "  <tbody>\n",
       "    <tr>\n",
       "      <th>0</th>\n",
       "      <td>s Gravesandestraat 55 Oost 1092 AA Amsterdam ...</td>\n",
       "      <td>194</td>\n",
       "      <td>8/3/2017</td>\n",
       "      <td>7.7</td>\n",
       "      <td>Hotel Arena</td>\n",
       "      <td>Russia</td>\n",
       "      <td>I am so angry that i made this post available...</td>\n",
       "      <td>397</td>\n",
       "      <td>1403</td>\n",
       "      <td>Only the park outside of the hotel was beauti...</td>\n",
       "      <td>11</td>\n",
       "      <td>7</td>\n",
       "      <td>2.9</td>\n",
       "      <td>[' Leisure trip ', ' Couple ', ' Duplex Double...</td>\n",
       "      <td>0 days</td>\n",
       "      <td>52.360576</td>\n",
       "      <td>4.915968</td>\n",
       "    </tr>\n",
       "    <tr>\n",
       "      <th>1</th>\n",
       "      <td>s Gravesandestraat 55 Oost 1092 AA Amsterdam ...</td>\n",
       "      <td>194</td>\n",
       "      <td>8/3/2017</td>\n",
       "      <td>7.7</td>\n",
       "      <td>Hotel Arena</td>\n",
       "      <td>Ireland</td>\n",
       "      <td>No Negative</td>\n",
       "      <td>0</td>\n",
       "      <td>1403</td>\n",
       "      <td>No real complaints the hotel was great great ...</td>\n",
       "      <td>105</td>\n",
       "      <td>7</td>\n",
       "      <td>7.5</td>\n",
       "      <td>[' Leisure trip ', ' Couple ', ' Duplex Double...</td>\n",
       "      <td>0 days</td>\n",
       "      <td>52.360576</td>\n",
       "      <td>4.915968</td>\n",
       "    </tr>\n",
       "    <tr>\n",
       "      <th>2</th>\n",
       "      <td>s Gravesandestraat 55 Oost 1092 AA Amsterdam ...</td>\n",
       "      <td>194</td>\n",
       "      <td>7/31/2017</td>\n",
       "      <td>7.7</td>\n",
       "      <td>Hotel Arena</td>\n",
       "      <td>Australia</td>\n",
       "      <td>Rooms are nice but for elderly a bit difficul...</td>\n",
       "      <td>42</td>\n",
       "      <td>1403</td>\n",
       "      <td>Location was good and staff were ok It is cut...</td>\n",
       "      <td>21</td>\n",
       "      <td>9</td>\n",
       "      <td>7.1</td>\n",
       "      <td>[' Leisure trip ', ' Family with young childre...</td>\n",
       "      <td>3 days</td>\n",
       "      <td>52.360576</td>\n",
       "      <td>4.915968</td>\n",
       "    </tr>\n",
       "  </tbody>\n",
       "</table>\n",
       "</div>"
      ],
      "text/plain": [
       "                                       Hotel_Address  \\\n",
       "0   s Gravesandestraat 55 Oost 1092 AA Amsterdam ...   \n",
       "1   s Gravesandestraat 55 Oost 1092 AA Amsterdam ...   \n",
       "2   s Gravesandestraat 55 Oost 1092 AA Amsterdam ...   \n",
       "\n",
       "   Additional_Number_of_Scoring Review_Date  Average_Score   Hotel_Name  \\\n",
       "0                           194    8/3/2017            7.7  Hotel Arena   \n",
       "1                           194    8/3/2017            7.7  Hotel Arena   \n",
       "2                           194   7/31/2017            7.7  Hotel Arena   \n",
       "\n",
       "  Reviewer_Nationality                                    Negative_Review  \\\n",
       "0              Russia    I am so angry that i made this post available...   \n",
       "1             Ireland                                         No Negative   \n",
       "2           Australia    Rooms are nice but for elderly a bit difficul...   \n",
       "\n",
       "   Review_Total_Negative_Word_Counts  Total_Number_of_Reviews  \\\n",
       "0                                397                     1403   \n",
       "1                                  0                     1403   \n",
       "2                                 42                     1403   \n",
       "\n",
       "                                     Positive_Review  \\\n",
       "0   Only the park outside of the hotel was beauti...   \n",
       "1   No real complaints the hotel was great great ...   \n",
       "2   Location was good and staff were ok It is cut...   \n",
       "\n",
       "   Review_Total_Positive_Word_Counts  \\\n",
       "0                                 11   \n",
       "1                                105   \n",
       "2                                 21   \n",
       "\n",
       "   Total_Number_of_Reviews_Reviewer_Has_Given  Reviewer_Score  \\\n",
       "0                                           7             2.9   \n",
       "1                                           7             7.5   \n",
       "2                                           9             7.1   \n",
       "\n",
       "                                                Tags days_since_review  \\\n",
       "0  [' Leisure trip ', ' Couple ', ' Duplex Double...            0 days   \n",
       "1  [' Leisure trip ', ' Couple ', ' Duplex Double...            0 days   \n",
       "2  [' Leisure trip ', ' Family with young childre...            3 days   \n",
       "\n",
       "         lat       lng  \n",
       "0  52.360576  4.915968  \n",
       "1  52.360576  4.915968  \n",
       "2  52.360576  4.915968  "
      ]
     },
     "execution_count": 28,
     "metadata": {},
     "output_type": "execute_result"
    }
   ],
   "source": [
    "df = pd.read_csv(\"data/pre_clean_hotel.csv\")\n",
    "df.head(3)"
   ]
  },
  {
   "cell_type": "code",
   "execution_count": 29,
   "metadata": {},
   "outputs": [
    {
     "data": {
      "text/plain": [
       "(515738, 17)"
      ]
     },
     "execution_count": 29,
     "metadata": {},
     "output_type": "execute_result"
    }
   ],
   "source": [
    "df.shape\n",
    "\n",
    "# (515738, 17)"
   ]
  },
  {
   "cell_type": "markdown",
   "metadata": {},
   "source": [
    "<p>Given the huge size, you will most likely encounter an error here if you simply try to run this. Let's pick out some hotels, and shrink the dataset to around a few thousand.</p>"
   ]
  },
  {
   "cell_type": "code",
   "execution_count": 30,
   "metadata": {},
   "outputs": [
    {
     "data": {
      "text/plain": [
       "Hotel_Name\n",
       "Britannia International Hotel Canary Wharf           4789\n",
       "Strand Palace Hotel                                  4256\n",
       "Park Plaza Westminster Bridge London                 4169\n",
       "Copthorne Tara Hotel London Kensington               3578\n",
       "DoubleTree by Hilton Hotel London Tower of London    3212\n",
       "                                                     ... \n",
       "Ibis Styles Milano Palmanova                           12\n",
       "Hotel Eitlj rg                                         12\n",
       "Hotel Wagner                                           10\n",
       "Mercure Paris Porte d Orleans                          10\n",
       "Hotel Gallitzinberg                                     8\n",
       "Name: count, Length: 1492, dtype: int64"
      ]
     },
     "execution_count": 30,
     "metadata": {},
     "output_type": "execute_result"
    }
   ],
   "source": [
    "df['Hotel_Name'].value_counts()"
   ]
  },
  {
   "cell_type": "code",
   "execution_count": 31,
   "metadata": {},
   "outputs": [],
   "source": [
    "selected_hotels = [\n",
    "    'Britannia International Hotel Canary Wharf',\n",
    "    'Strand Palace Hotel',\n",
    "    'Park Plaza Westminster Bridge London'\n",
    "]\n",
    "\n",
    "df = df[df['Hotel_Name'].isin(selected_hotels)]\n"
   ]
  },
  {
   "cell_type": "markdown",
   "metadata": {},
   "source": [
    "<p>Concatenate the reviews to that we will only have to call the API on one column later. Comprehend would be the one to decide which is the more powerful review (positive or negative).</p>"
   ]
  },
  {
   "cell_type": "code",
   "execution_count": 32,
   "metadata": {},
   "outputs": [],
   "source": [
    "concatenate_columns = lambda row: row['Negative_Review'] + '. ' + row['Positive_Review']\n",
    "\n",
    "# Apply the lambda function to create a new column\n",
    "df['concatenated'] = df.apply(concatenate_columns, axis=1)"
   ]
  },
  {
   "cell_type": "code",
   "execution_count": 33,
   "metadata": {},
   "outputs": [],
   "source": [
    "columns_to_save = ['concatenated', 'Average_Score']\n",
    "clean_df = df[columns_to_save]\n"
   ]
  },
  {
   "cell_type": "code",
   "execution_count": 34,
   "metadata": {},
   "outputs": [
    {
     "data": {
      "text/html": [
       "<div>\n",
       "<style scoped>\n",
       "    .dataframe tbody tr th:only-of-type {\n",
       "        vertical-align: middle;\n",
       "    }\n",
       "\n",
       "    .dataframe tbody tr th {\n",
       "        vertical-align: top;\n",
       "    }\n",
       "\n",
       "    .dataframe thead th {\n",
       "        text-align: right;\n",
       "    }\n",
       "</style>\n",
       "<table border=\"1\" class=\"dataframe\">\n",
       "  <thead>\n",
       "    <tr style=\"text-align: right;\">\n",
       "      <th></th>\n",
       "      <th>concatenated</th>\n",
       "      <th>Average_Score</th>\n",
       "    </tr>\n",
       "  </thead>\n",
       "  <tbody>\n",
       "    <tr>\n",
       "      <th>63942</th>\n",
       "      <td>The car park was small and unpleasant People ...</td>\n",
       "      <td>7.1</td>\n",
       "    </tr>\n",
       "    <tr>\n",
       "      <th>63943</th>\n",
       "      <td>We weren t told that the only spa facility op...</td>\n",
       "      <td>7.1</td>\n",
       "    </tr>\n",
       "    <tr>\n",
       "      <th>63944</th>\n",
       "      <td>I asked how far the O2 was and got told a 7 m...</td>\n",
       "      <td>7.1</td>\n",
       "    </tr>\n",
       "    <tr>\n",
       "      <th>63945</th>\n",
       "      <td>Hot stuffy room air con not working properly ...</td>\n",
       "      <td>7.1</td>\n",
       "    </tr>\n",
       "    <tr>\n",
       "      <th>63946</th>\n",
       "      <td>Although the price seems like it is cheap you...</td>\n",
       "      <td>7.1</td>\n",
       "    </tr>\n",
       "    <tr>\n",
       "      <th>...</th>\n",
       "      <td>...</td>\n",
       "      <td>...</td>\n",
       "    </tr>\n",
       "    <tr>\n",
       "      <th>508191</th>\n",
       "      <td>No Negative.  Our family apartment room was te...</td>\n",
       "      <td>8.7</td>\n",
       "    </tr>\n",
       "    <tr>\n",
       "      <th>508192</th>\n",
       "      <td>No Negative.  Great location and overall fanta...</td>\n",
       "      <td>8.7</td>\n",
       "    </tr>\n",
       "    <tr>\n",
       "      <th>508193</th>\n",
       "      <td>The staff were not approacable.  Location</td>\n",
       "      <td>8.7</td>\n",
       "    </tr>\n",
       "    <tr>\n",
       "      <th>508194</th>\n",
       "      <td>Hotel location Best staff Facilities Cleaning...</td>\n",
       "      <td>8.7</td>\n",
       "    </tr>\n",
       "    <tr>\n",
       "      <th>508195</th>\n",
       "      <td>The free WiFi was only until midnight .  Loca...</td>\n",
       "      <td>8.7</td>\n",
       "    </tr>\n",
       "  </tbody>\n",
       "</table>\n",
       "<p>13214 rows × 2 columns</p>\n",
       "</div>"
      ],
      "text/plain": [
       "                                             concatenated  Average_Score\n",
       "63942    The car park was small and unpleasant People ...            7.1\n",
       "63943    We weren t told that the only spa facility op...            7.1\n",
       "63944    I asked how far the O2 was and got told a 7 m...            7.1\n",
       "63945    Hot stuffy room air con not working properly ...            7.1\n",
       "63946    Although the price seems like it is cheap you...            7.1\n",
       "...                                                   ...            ...\n",
       "508191  No Negative.  Our family apartment room was te...            8.7\n",
       "508192  No Negative.  Great location and overall fanta...            8.7\n",
       "508193          The staff were not approacable.  Location            8.7\n",
       "508194   Hotel location Best staff Facilities Cleaning...            8.7\n",
       "508195   The free WiFi was only until midnight .  Loca...            8.7\n",
       "\n",
       "[13214 rows x 2 columns]"
      ]
     },
     "execution_count": 34,
     "metadata": {},
     "output_type": "execute_result"
    }
   ],
   "source": [
    "clean_df"
   ]
  },
  {
   "cell_type": "code",
   "execution_count": 35,
   "metadata": {},
   "outputs": [
    {
     "data": {
      "text/html": [
       "<div>\n",
       "<style scoped>\n",
       "    .dataframe tbody tr th:only-of-type {\n",
       "        vertical-align: middle;\n",
       "    }\n",
       "\n",
       "    .dataframe tbody tr th {\n",
       "        vertical-align: top;\n",
       "    }\n",
       "\n",
       "    .dataframe thead th {\n",
       "        text-align: right;\n",
       "    }\n",
       "</style>\n",
       "<table border=\"1\" class=\"dataframe\">\n",
       "  <thead>\n",
       "    <tr style=\"text-align: right;\">\n",
       "      <th></th>\n",
       "      <th>review</th>\n",
       "      <th>rating</th>\n",
       "    </tr>\n",
       "  </thead>\n",
       "  <tbody>\n",
       "    <tr>\n",
       "      <th>63942</th>\n",
       "      <td>The car park was small and unpleasant People ...</td>\n",
       "      <td>7.1</td>\n",
       "    </tr>\n",
       "    <tr>\n",
       "      <th>63943</th>\n",
       "      <td>We weren t told that the only spa facility op...</td>\n",
       "      <td>7.1</td>\n",
       "    </tr>\n",
       "    <tr>\n",
       "      <th>63944</th>\n",
       "      <td>I asked how far the O2 was and got told a 7 m...</td>\n",
       "      <td>7.1</td>\n",
       "    </tr>\n",
       "    <tr>\n",
       "      <th>63945</th>\n",
       "      <td>Hot stuffy room air con not working properly ...</td>\n",
       "      <td>7.1</td>\n",
       "    </tr>\n",
       "    <tr>\n",
       "      <th>63946</th>\n",
       "      <td>Although the price seems like it is cheap you...</td>\n",
       "      <td>7.1</td>\n",
       "    </tr>\n",
       "    <tr>\n",
       "      <th>...</th>\n",
       "      <td>...</td>\n",
       "      <td>...</td>\n",
       "    </tr>\n",
       "    <tr>\n",
       "      <th>508191</th>\n",
       "      <td>No Negative.  Our family apartment room was te...</td>\n",
       "      <td>8.7</td>\n",
       "    </tr>\n",
       "    <tr>\n",
       "      <th>508192</th>\n",
       "      <td>No Negative.  Great location and overall fanta...</td>\n",
       "      <td>8.7</td>\n",
       "    </tr>\n",
       "    <tr>\n",
       "      <th>508193</th>\n",
       "      <td>The staff were not approacable.  Location</td>\n",
       "      <td>8.7</td>\n",
       "    </tr>\n",
       "    <tr>\n",
       "      <th>508194</th>\n",
       "      <td>Hotel location Best staff Facilities Cleaning...</td>\n",
       "      <td>8.7</td>\n",
       "    </tr>\n",
       "    <tr>\n",
       "      <th>508195</th>\n",
       "      <td>The free WiFi was only until midnight .  Loca...</td>\n",
       "      <td>8.7</td>\n",
       "    </tr>\n",
       "  </tbody>\n",
       "</table>\n",
       "<p>13214 rows × 2 columns</p>\n",
       "</div>"
      ],
      "text/plain": [
       "                                                   review  rating\n",
       "63942    The car park was small and unpleasant People ...     7.1\n",
       "63943    We weren t told that the only spa facility op...     7.1\n",
       "63944    I asked how far the O2 was and got told a 7 m...     7.1\n",
       "63945    Hot stuffy room air con not working properly ...     7.1\n",
       "63946    Although the price seems like it is cheap you...     7.1\n",
       "...                                                   ...     ...\n",
       "508191  No Negative.  Our family apartment room was te...     8.7\n",
       "508192  No Negative.  Great location and overall fanta...     8.7\n",
       "508193          The staff were not approacable.  Location     8.7\n",
       "508194   Hotel location Best staff Facilities Cleaning...     8.7\n",
       "508195   The free WiFi was only until midnight .  Loca...     8.7\n",
       "\n",
       "[13214 rows x 2 columns]"
      ]
     },
     "execution_count": 35,
     "metadata": {},
     "output_type": "execute_result"
    }
   ],
   "source": [
    "# At this point we can already get rid of the original df, so let's overwrite with a new assignment\n",
    "\n",
    "df = clean_df.rename(columns={'Average_Score': 'rating', 'concatenated' : 'review'} )\n",
    "df.reset_index()\n",
    "df"
   ]
  },
  {
   "cell_type": "code",
   "execution_count": 36,
   "metadata": {},
   "outputs": [
    {
     "data": {
      "text/plain": [
       "Index(['review', 'rating'], dtype='object')"
      ]
     },
     "execution_count": 36,
     "metadata": {},
     "output_type": "execute_result"
    }
   ],
   "source": [
    "df.columns"
   ]
  },
  {
   "cell_type": "markdown",
   "metadata": {},
   "source": [
    "- TF-IDF Vectorization : Represents the text as numerical vectors while considering its relevance to the overall idea. \n",
    "- Dimensionality Reduction using PCA : This creates a PCA object for dimensionality reduction. It specifies that the transformed data should have 2 components (dimensions).  \n",
    "- K-means Clustering : This applies the K-means clustering algorithm to the reduced feature matrix. It assigns each review to one of the clusters based on the similarity of their features. The resulting cluster labels are added to the 'cluster' column of the DataFrame df.  \n",
    "\n",
    "\n",
    "Simply put, the idea here is:\n",
    "\n",
    "1. We convert our text as numerical vectors\n",
    "2. We decide which of those numerical vectors are the most significant\n",
    "3. We group these numerical vectors and append them to a cluster"
   ]
  },
  {
   "cell_type": "code",
   "execution_count": 37,
   "metadata": {},
   "outputs": [
    {
     "name": "stderr",
     "output_type": "stream",
     "text": [
      "/Users/llsaluta/Library/CloudStorage/OneDrive-DeLaSalleUniversity-Manila/Documents/Mac Documents/Code/AWS/Cebu/venv/lib/python3.11/site-packages/sklearn/cluster/_kmeans.py:1412: FutureWarning: The default value of `n_init` will change from 10 to 'auto' in 1.4. Set the value of `n_init` explicitly to suppress the warning\n",
      "  super()._check_params_vs_input(X, default_n_init=10)\n"
     ]
    }
   ],
   "source": [
    "# This should now work with our significantly smaller data\n",
    "\n",
    "\n",
    "# Combine 'review' and 'rating' into a single feature (for us to do the NLP on one column only)\n",
    "df['review_with_rating'] = df['review'] + ' ' + df['rating'].astype(str)\n",
    "\n",
    "\n",
    "# The idea of this section is to cluster the data and provide which cluster it would most likely belong to\n",
    "# TF-IDF vectorization of the reviews\n",
    "tfidf_vectorizer = TfidfVectorizer(stop_words='english')\n",
    "tfidf_matrix = tfidf_vectorizer.fit_transform(df['review_with_rating'])\n",
    "\n",
    "# Reduce the dimensionality of the TF-IDF matrix using PCA\n",
    "pca = PCA(n_components=2)\n",
    "reduced_features = pca.fit_transform(tfidf_matrix.toarray())\n",
    "\n",
    "# Use K-means to cluster the reviews\n",
    "num_clusters = 5\n",
    "kmeans = KMeans(n_clusters=num_clusters, random_state=42)\n",
    "df['cluster'] = kmeans.fit_predict(reduced_features)\n"
   ]
  },
  {
   "cell_type": "code",
   "execution_count": 38,
   "metadata": {},
   "outputs": [
    {
     "data": {
      "image/png": "[encoded data removed]",
      "text/plain": [
       "<Figure size 640x480 with 1 Axes>"
      ]
     },
     "metadata": {},
     "output_type": "display_data"
    }
   ],
   "source": [
    "# Visualize the clusters (optional)\n",
    "plt.scatter(reduced_features[:, 0], reduced_features[:, 1], c=df['cluster'], cmap='viridis')\n",
    "plt.xlabel('PCA Component 1')\n",
    "plt.ylabel('PCA Component 2')\n",
    "plt.title('Clustered Reviews')\n",
    "plt.show()\n",
    "\n",
    "# Now, you can create a mapping of cluster labels to hotel names based on your domain knowledge\n",
    "cluster_mapping = {\n",
    "    0: 'Hotel A',\n",
    "    1: 'Hotel B',\n",
    "    2: 'Hotel C',\n",
    "    3: 'Hotel D',\n",
    "    4: 'Hotel E'\n",
    "}\n",
    "\n",
    "# Map the cluster labels to hotel names in the DataFrame\n",
    "df['hotel'] = df['cluster'].map(cluster_mapping)\n",
    "\n",
    "# Drop temporary columns\n",
    "df.drop(['review_with_rating', 'cluster'], axis=1, inplace=True)"
   ]
  },
  {
   "cell_type": "code",
   "execution_count": 39,
   "metadata": {},
   "outputs": [
    {
     "data": {
      "text/plain": [
       "hotel\n",
       "Hotel A    8.163984\n",
       "Hotel B    8.043808\n",
       "Hotel C    8.097141\n",
       "Hotel D    7.810088\n",
       "Hotel E    8.149153\n",
       "Name: rating, dtype: float64"
      ]
     },
     "execution_count": 39,
     "metadata": {},
     "output_type": "execute_result"
    }
   ],
   "source": [
    "df.groupby(['hotel'])['rating'].mean()"
   ]
  },
  {
   "cell_type": "code",
   "execution_count": 40,
   "metadata": {},
   "outputs": [
    {
     "data": {
      "text/html": [
       "<div>\n",
       "<style scoped>\n",
       "    .dataframe tbody tr th:only-of-type {\n",
       "        vertical-align: middle;\n",
       "    }\n",
       "\n",
       "    .dataframe tbody tr th {\n",
       "        vertical-align: top;\n",
       "    }\n",
       "\n",
       "    .dataframe thead th {\n",
       "        text-align: right;\n",
       "    }\n",
       "</style>\n",
       "<table border=\"1\" class=\"dataframe\">\n",
       "  <thead>\n",
       "    <tr style=\"text-align: right;\">\n",
       "      <th></th>\n",
       "      <th>review</th>\n",
       "      <th>rating</th>\n",
       "      <th>hotel</th>\n",
       "    </tr>\n",
       "  </thead>\n",
       "  <tbody>\n",
       "    <tr>\n",
       "      <th>63942</th>\n",
       "      <td>The car park was small and unpleasant People ...</td>\n",
       "      <td>7.1</td>\n",
       "      <td>Hotel D</td>\n",
       "    </tr>\n",
       "    <tr>\n",
       "      <th>63943</th>\n",
       "      <td>We weren t told that the only spa facility op...</td>\n",
       "      <td>7.1</td>\n",
       "      <td>Hotel D</td>\n",
       "    </tr>\n",
       "    <tr>\n",
       "      <th>63944</th>\n",
       "      <td>I asked how far the O2 was and got told a 7 m...</td>\n",
       "      <td>7.1</td>\n",
       "      <td>Hotel D</td>\n",
       "    </tr>\n",
       "  </tbody>\n",
       "</table>\n",
       "</div>"
      ],
      "text/plain": [
       "                                                  review  rating    hotel\n",
       "63942   The car park was small and unpleasant People ...     7.1  Hotel D\n",
       "63943   We weren t told that the only spa facility op...     7.1  Hotel D\n",
       "63944   I asked how far the O2 was and got told a 7 m...     7.1  Hotel D"
      ]
     },
     "execution_count": 40,
     "metadata": {},
     "output_type": "execute_result"
    }
   ],
   "source": [
    "df.head(3)"
   ]
  },
  {
   "cell_type": "code",
   "execution_count": 41,
   "metadata": {},
   "outputs": [],
   "source": [
    "# Create a dictionary to store the undersampled data for each hotel\n",
    "undersampled_data = {}\n",
    "\n",
    "# List of hotel names\n",
    "hotel_names = ['Hotel A', 'Hotel B', 'Hotel C', 'Hotel D', 'Hotel E']\n",
    "\n",
    "# Loop through each hotel and undersample to 500 rows\n",
    "for hotel_name in hotel_names:\n",
    "    hotel_data = df[df['hotel'] == hotel_name].sample(n=200, random_state=42)  # Adjust random_state as needed\n",
    "    undersampled_data[hotel_name] = hotel_data\n",
    "\n",
    "# Concatenate the undersampled dataframes for each hotel back together\n",
    "undersampled_df = pd.concat(undersampled_data.values(), ignore_index=True)\n",
    "\n",
    "# Now undersampled_df contains the desired undersampled dataframe\n"
   ]
  },
  {
   "cell_type": "code",
   "execution_count": 42,
   "metadata": {},
   "outputs": [
    {
     "data": {
      "text/html": [
       "<div>\n",
       "<style scoped>\n",
       "    .dataframe tbody tr th:only-of-type {\n",
       "        vertical-align: middle;\n",
       "    }\n",
       "\n",
       "    .dataframe tbody tr th {\n",
       "        vertical-align: top;\n",
       "    }\n",
       "\n",
       "    .dataframe thead th {\n",
       "        text-align: right;\n",
       "    }\n",
       "</style>\n",
       "<table border=\"1\" class=\"dataframe\">\n",
       "  <thead>\n",
       "    <tr style=\"text-align: right;\">\n",
       "      <th></th>\n",
       "      <th>review</th>\n",
       "      <th>rating</th>\n",
       "      <th>hotel</th>\n",
       "    </tr>\n",
       "  </thead>\n",
       "  <tbody>\n",
       "    <tr>\n",
       "      <th>0</th>\n",
       "      <td>No Negative.  Everything was really great Staf...</td>\n",
       "      <td>8.7</td>\n",
       "      <td>Hotel A</td>\n",
       "    </tr>\n",
       "    <tr>\n",
       "      <th>1</th>\n",
       "      <td>No Negative.  The hotel felt safe the rooms we...</td>\n",
       "      <td>7.1</td>\n",
       "      <td>Hotel A</td>\n",
       "    </tr>\n",
       "    <tr>\n",
       "      <th>2</th>\n",
       "      <td>No Negative.  Great location quiet room excell...</td>\n",
       "      <td>8.1</td>\n",
       "      <td>Hotel A</td>\n",
       "    </tr>\n",
       "    <tr>\n",
       "      <th>3</th>\n",
       "      <td>No Negative.  Location helpful staff</td>\n",
       "      <td>8.1</td>\n",
       "      <td>Hotel A</td>\n",
       "    </tr>\n",
       "    <tr>\n",
       "      <th>4</th>\n",
       "      <td>No Negative.  Great staff in all areas Lovely ...</td>\n",
       "      <td>8.1</td>\n",
       "      <td>Hotel A</td>\n",
       "    </tr>\n",
       "    <tr>\n",
       "      <th>...</th>\n",
       "      <td>...</td>\n",
       "      <td>...</td>\n",
       "      <td>...</td>\n",
       "    </tr>\n",
       "    <tr>\n",
       "      <th>995</th>\n",
       "      <td>No Negative.  Breakfast very good location exc...</td>\n",
       "      <td>8.7</td>\n",
       "      <td>Hotel E</td>\n",
       "    </tr>\n",
       "    <tr>\n",
       "      <th>996</th>\n",
       "      <td>No Negative.  Perfect</td>\n",
       "      <td>8.7</td>\n",
       "      <td>Hotel E</td>\n",
       "    </tr>\n",
       "    <tr>\n",
       "      <th>997</th>\n",
       "      <td>No Negative.  Location</td>\n",
       "      <td>8.7</td>\n",
       "      <td>Hotel E</td>\n",
       "    </tr>\n",
       "    <tr>\n",
       "      <th>998</th>\n",
       "      <td>No Negative.  Location</td>\n",
       "      <td>8.7</td>\n",
       "      <td>Hotel E</td>\n",
       "    </tr>\n",
       "    <tr>\n",
       "      <th>999</th>\n",
       "      <td>No Negative.  Good breakfast</td>\n",
       "      <td>8.1</td>\n",
       "      <td>Hotel E</td>\n",
       "    </tr>\n",
       "  </tbody>\n",
       "</table>\n",
       "<p>1000 rows × 3 columns</p>\n",
       "</div>"
      ],
      "text/plain": [
       "                                                review  rating    hotel\n",
       "0    No Negative.  Everything was really great Staf...     8.7  Hotel A\n",
       "1    No Negative.  The hotel felt safe the rooms we...     7.1  Hotel A\n",
       "2    No Negative.  Great location quiet room excell...     8.1  Hotel A\n",
       "3                 No Negative.  Location helpful staff     8.1  Hotel A\n",
       "4    No Negative.  Great staff in all areas Lovely ...     8.1  Hotel A\n",
       "..                                                 ...     ...      ...\n",
       "995  No Negative.  Breakfast very good location exc...     8.7  Hotel E\n",
       "996                              No Negative.  Perfect     8.7  Hotel E\n",
       "997                             No Negative.  Location     8.7  Hotel E\n",
       "998                             No Negative.  Location     8.7  Hotel E\n",
       "999                       No Negative.  Good breakfast     8.1  Hotel E\n",
       "\n",
       "[1000 rows x 3 columns]"
      ]
     },
     "execution_count": 42,
     "metadata": {},
     "output_type": "execute_result"
    }
   ],
   "source": [
    "undersampled_df"
   ]
  },
  {
   "cell_type": "code",
   "execution_count": 43,
   "metadata": {},
   "outputs": [
    {
     "data": {
      "text/plain": [
       "'No Negative.  Location helpful staff'"
      ]
     },
     "metadata": {},
     "output_type": "display_data"
    }
   ],
   "source": [
    "sample = undersampled_df['review'].iloc[3]\n",
    "display(sample)"
   ]
  },
  {
   "cell_type": "code",
   "execution_count": 44,
   "metadata": {},
   "outputs": [],
   "source": [
    "undersampled_df.to_csv(\"data/clean_hotel_data.csv\", index=False)"
   ]
  }
 ],
 "metadata": {
  "kernelspec": {
   "display_name": "venv",
   "language": "python",
   "name": "python3"
  },
  "language_info": {
   "codemirror_mode": {
    "name": "ipython",
    "version": 3
   },
   "file_extension": ".py",
   "mimetype": "text/x-python",
   "name": "python",
   "nbconvert_exporter": "python",
   "pygments_lexer": "ipython3",
   "version": "3.11.2"
  },
  "orig_nbformat": 4
 },
 "nbformat": 4,
 "nbformat_minor": 2
}
